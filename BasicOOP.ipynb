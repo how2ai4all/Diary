{
  "nbformat": 4,
  "nbformat_minor": 0,
  "metadata": {
    "colab": {
      "name": "BasicOOP.ipynb",
      "provenance": []
    },
    "kernelspec": {
      "name": "python3",
      "display_name": "Python 3"
    },
    "language_info": {
      "name": "python"
    }
  },
  "cells": [
    {
      "cell_type": "markdown",
      "source": [
        "5 June 2022\n",
        "Credit: [KongRuksiam Official](https://www.youtube.com/watch?v=YXNwADEE3EU)"
      ],
      "metadata": {
        "id": "26tIc2Ifwfbu"
      }
    },
    {
      "cell_type": "markdown",
      "source": [
        "# Intro OOP"
      ],
      "metadata": {
        "id": "gUV8r8sYVpYh"
      }
    },
    {
      "cell_type": "code",
      "execution_count": 10,
      "metadata": {
        "colab": {
          "base_uri": "https://localhost:8080/"
        },
        "id": "TctzS1eKzj8a",
        "outputId": "0f74c4f0-b347-4fdf-980f-919b6126bb5e"
      },
      "outputs": [
        {
          "output_type": "stream",
          "name": "stdout",
          "text": [
            "ชื่อพนักงาน : ก้อง\n",
            "เงินเดือน : 50000\n",
            "เงินเดือน : บัญชี\n",
            "ชื่อพนักงาน : โจโจ้\n",
            "เงินเดือน : 40000\n",
            "เงินเดือน : โปรแกรมเมอร์\n",
            "ชื่อพนักงาน : นัท\n",
            "เงินเดือน : 100000\n",
            "เงินเดือน : ผู้จัดการ\n"
          ]
        }
      ],
      "source": [
        "#ชื่อ, เงินเดือน\n",
        "\n",
        "class Employee:\n",
        "  \n",
        "  def detail(self,name,salary,department):\n",
        "    self.name = name\n",
        "    self.salary = salary\n",
        "    self.department = department\n",
        "  def showdata(self):\n",
        "    print(\"ชื่อพนักงาน : {}\".format(self.name))\n",
        "    print(\"เงินเดือน : {}\".format(self.salary))\n",
        "    print(\"เงินเดือน : {}\".format(self.department))\n",
        "\n",
        "obj1 = Employee()\n",
        "obj1.detail(\"ก้อง\",50000,\"บัญชี\")\n",
        "\n",
        "obj2 = Employee()\n",
        "obj2.detail(\"โจโจ้\", 40000,\"โปรแกรมเมอร์\")\n",
        "\n",
        "obj3 = Employee()\n",
        "obj3.detail(\"นัท\", 100000,\"ผู้จัดการ\")\n",
        "\n",
        "obj1.showdata()\n",
        "obj2.showdata()\n",
        "obj3.showdata()"
      ]
    },
    {
      "cell_type": "markdown",
      "source": [
        "## Constructure and Deconstructure"
      ],
      "metadata": {
        "id": "_GVQHxA3VlIR"
      }
    },
    {
      "cell_type": "code",
      "source": [
        "#ชื่อ, เงินเดือน\n",
        "\n",
        "class Employee:\n",
        "\n",
        "  def __init__(self,name,salary,department):\n",
        "    self.name = name\n",
        "    self.salary = salary\n",
        "    self.department = department\n",
        "\n",
        "  def showdata(self):\n",
        "    print(\"ชื่อพนักงาน : {}\".format(self.name))\n",
        "    print(\"เงินเดือน : {}\".format(self.salary))\n",
        "    print(\"เงินเดือน : {}\".format(self.department))\n",
        "\n",
        "  def __del__(self):\n",
        "    print(\"Call Destructure\")\n",
        " \n",
        "obj1 = Employee(\"ก้อง\", 200000,\"บัญชี\")\n",
        "obj1.salary = 700000\n",
        "obj1.showdata()\n",
        "obj2 = Employee(\"โจโจ้\", 40000,\"โปรแกรมเมอร์\")\n",
        "obj2.showdata()\n",
        "obj3 = Employee(\"นัท\", 100000,\"ผู้จัดการ\")\n",
        "obj3.showdata()\n",
        "# obj1.showdata()\n",
        "# obj2.showdata()\n",
        "# obj3.showdata()"
      ],
      "metadata": {
        "colab": {
          "base_uri": "https://localhost:8080/"
        },
        "id": "ctdedvHQAGlJ",
        "outputId": "83e6b867-60b6-48c9-8817-979c80e2505a"
      },
      "execution_count": 22,
      "outputs": [
        {
          "output_type": "stream",
          "name": "stdout",
          "text": [
            "ชื่อพนักงาน : ก้อง\n",
            "เงินเดือน : 700000\n",
            "เงินเดือน : บัญชี\n",
            "ชื่อพนักงาน : โจโจ้\n",
            "เงินเดือน : 40000\n",
            "เงินเดือน : โปรแกรมเมอร์\n",
            "ชื่อพนักงาน : นัท\n",
            "เงินเดือน : 100000\n",
            "เงินเดือน : ผู้จัดการ\n"
          ]
        }
      ]
    },
    {
      "cell_type": "markdown",
      "source": [
        "#Check OOP"
      ],
      "metadata": {
        "id": "jJIwqwXMVcEQ"
      }
    },
    {
      "cell_type": "code",
      "source": [
        "#ชื่อ, เงินเดือน\n",
        "\n",
        "class Employee:\n",
        "\n",
        "  def __init__(self,name,salary,department):\n",
        "    self.name = name\n",
        "    self.salary = salary\n",
        "    self.department = department\n",
        "\n",
        "  def showdata(self):\n",
        "    print(\"ชื่อพนักงาน : {}\".format(self.name))\n",
        "    print(\"เงินเดือน : {}\".format(self.salary))\n",
        "    print(\"เงินเดือน : {}\".format(self.department))\n",
        "\n",
        "  def __del__(self):\n",
        "    print(\"Call Destructure\")\n",
        " \n",
        "obj1 = Employee(\"ก้อง\", 200000,\"บัญชี\")\n",
        "obj2 = Employee(\"โจโจ้\", 40000,\"โปรแกรมเมอร์\")\n",
        "obj3 = Employee(\"นัท\", 100000,\"ผู้จัดการ\")\n",
        "\n",
        "#isinstance(obj1,Employee)\n",
        "#dir(obj1)\n",
        "obj1.__class__\n"
      ],
      "metadata": {
        "colab": {
          "base_uri": "https://localhost:8080/"
        },
        "id": "Y2XTbk4qMT0Y",
        "outputId": "2e5d8fee-2b8e-4384-f411-5b7f8dd8d7d6"
      },
      "execution_count": 25,
      "outputs": [
        {
          "output_type": "execute_result",
          "data": {
            "text/plain": [
              "__main__.Employee"
            ]
          },
          "metadata": {},
          "execution_count": 25
        }
      ]
    },
    {
      "cell_type": "markdown",
      "source": [
        "## Protected"
      ],
      "metadata": {
        "id": "3BX1ccqGVYFX"
      }
    },
    {
      "cell_type": "code",
      "source": [
        "#ชื่อ, เงินเดือน\n",
        "\n",
        "class Employee:\n",
        "\n",
        "  def __init__(self,name,salary,department):\n",
        "    self._name = name\n",
        "    self._salary = salary\n",
        "    self._department = department\n",
        "    self._showdata()\n",
        "\n",
        "  def _showdata(self):\n",
        "    print(\"ชื่อพนักงาน : {}\".format(self._name))\n",
        "    print(\"เงินเดือน : {}\".format(self._salary))\n",
        "    print(\"เงินเดือน : {}\".format(self._department))\n",
        "\n",
        " \n",
        "obj1 = Employee(\"ก้อง\", 200000,\"บัญชี\")\n",
        "obj1.salary = 50000\n",
        "#obj1._showdata()"
      ],
      "metadata": {
        "colab": {
          "base_uri": "https://localhost:8080/"
        },
        "id": "yD69GNXbTc75",
        "outputId": "ff03205d-8b38-4183-f96e-e83e6530008b"
      },
      "execution_count": 34,
      "outputs": [
        {
          "output_type": "stream",
          "name": "stdout",
          "text": [
            "ชื่อพนักงาน : ก้อง\n",
            "เงินเดือน : 200000\n",
            "เงินเดือน : บัญชี\n"
          ]
        }
      ]
    },
    {
      "cell_type": "code",
      "source": [
        "#ชื่อ, เงินเดือน\n",
        "\n",
        "class Employee:\n",
        "\n",
        "  def __init__(self,name,salary,department):\n",
        "    self._name = name\n",
        "    self.__salary = salary\n",
        "    self.__department = department\n",
        "    self.__showdata()\n",
        "\n",
        "  def __showdata(self):\n",
        "    print(\"ชื่อพนักงาน : {}\".format(self._name))\n",
        "    print(\"เงินเดือน : {}\".format(self.__salary))\n",
        "    print(\"เงินเดือน : {}\".format(self.__department))\n",
        "\n",
        " \n",
        "obj1 = Employee(\"ก้อง\", 200000,\"บัญชี\")\n",
        "obj1.salary = 50000\n",
        "#obj1._showdata()"
      ],
      "metadata": {
        "colab": {
          "base_uri": "https://localhost:8080/"
        },
        "id": "RX1CIYurWLKx",
        "outputId": "5d81849a-52d4-489d-dad4-dcda288fac9a"
      },
      "execution_count": 37,
      "outputs": [
        {
          "output_type": "stream",
          "name": "stdout",
          "text": [
            "ชื่อพนักงาน : ก้อง\n",
            "เงินเดือน : 200000\n",
            "เงินเดือน : บัญชี\n"
          ]
        }
      ]
    },
    {
      "cell_type": "markdown",
      "source": [
        "#Setter and Getter"
      ],
      "metadata": {
        "id": "Gs-XZ6kdYhi2"
      }
    },
    {
      "cell_type": "code",
      "source": [
        "#ชื่อ, เงินเดือน\n",
        "\n",
        "class Employee:\n",
        "\n",
        "  def __init__(self,name,salary,department):\n",
        "    self.__name = name\n",
        "    self.__salary = salary\n",
        "    self.__department = department\n",
        "    #self._showdata()\n",
        "\n",
        "  def _showdata(self):\n",
        "    print(\"ชื่อพนักงาน : {}\".format(self.__name))\n",
        "    print(\"เงินเดือน : {}\".format(self.__salary))\n",
        "    print(\"เงินเดือน : {}\".format(self.__department))\n",
        "\n",
        "# Setter\n",
        "  def setName(self,newname):\n",
        "    self.__name = newname\n",
        "\n",
        "  def setSalary(self,newsalary):\n",
        "    self.__salary = newsalary\n",
        "\n",
        "  def setNewDepartment(self,newdepartment):\n",
        "    self.__department = newdepartment\n",
        " \n",
        "obj1 = Employee(\"ก้อง\", 200000,\"บัญชี\")\n",
        "obj1.setName(\"โจโจ้\")\n",
        "obj1.setSalary(30000)\n",
        "obj1.setNewDepartment(\"ฝ่ายขาย\")\n",
        "obj1._showdata()\n"
      ],
      "metadata": {
        "colab": {
          "base_uri": "https://localhost:8080/"
        },
        "id": "oHv4J1IDYko2",
        "outputId": "35642bc3-4ac0-4430-84a7-3df1ab23d770"
      },
      "execution_count": 49,
      "outputs": [
        {
          "output_type": "stream",
          "name": "stdout",
          "text": [
            "ชื่อพนักงาน : โจโจ้\n",
            "เงินเดือน : 30000\n",
            "เงินเดือน : ฝ่ายขาย\n"
          ]
        }
      ]
    },
    {
      "cell_type": "code",
      "source": [
        "#ชื่อ, เงินเดือน\n",
        "\n",
        "class Employee:\n",
        "\n",
        "  def __init__(self,name,salary,department):\n",
        "    self.__name = name\n",
        "    self.__salary = salary\n",
        "    self.__department = department\n",
        "    #self._showdata()\n",
        "\n",
        "  def _showdata(self):\n",
        "    print(\"ชื่อพนักงาน : {}\".format(self.getName()))\n",
        "    print(\"เงินเดือน : {}\".format(self.getSalary()))\n",
        "    print(\"เงินเดือน : {}\".format(self.getDepartment()))\n",
        "\n",
        "\n",
        "  def setName(self,newname):\n",
        "    self.__name = newname\n",
        "\n",
        "  def setSalary(self,newsalary):\n",
        "    self.__salary = newsalary\n",
        "\n",
        "  def setNewDepartment(self,newdepartment):\n",
        "    self.__department = newdepartment\n",
        "\n",
        "# Getter\n",
        "  def getName(self):\n",
        "    return self.__name\n",
        "\n",
        "  def getSalary(self):\n",
        "    return self.__salary\n",
        "\n",
        "\n",
        "  def getDepartment(self):\n",
        "    return self.__department\n",
        "\n",
        " \n",
        "obj1 = Employee(\"ก้อง\", 200000,\"บัญชี\")\n",
        "\n",
        "obj1._showdata()\n"
      ],
      "metadata": {
        "colab": {
          "base_uri": "https://localhost:8080/"
        },
        "id": "L8Ek7Up9bOSc",
        "outputId": "325a24cf-1ff2-4b1d-98ed-64526707b6a4"
      },
      "execution_count": 56,
      "outputs": [
        {
          "output_type": "stream",
          "name": "stdout",
          "text": [
            "ชื่อพนักงาน : ก้อง\n",
            "เงินเดือน : 200000\n",
            "เงินเดือน : บัญชี\n"
          ]
        }
      ]
    },
    {
      "cell_type": "markdown",
      "source": [
        "## Class Variable and Instance Variable"
      ],
      "metadata": {
        "id": "TJ1rEZnQl-eV"
      }
    },
    {
      "cell_type": "code",
      "source": [
        "#ชื่อ, เงินเดือน\n",
        "\n",
        "class Employee:\n",
        "\n",
        "  __minSalary = 12000\n",
        "  __maxSalary = 50000\n",
        "  __compaynyName = \"บริษัท XYZ จำกัด\"\n",
        "  def __init__(self,name,salary,department):\n",
        "    self.__name = name\n",
        "    self.__salary = salary\n",
        "    self.__department = department\n",
        "    #self._showdata()\n",
        "\n",
        "  def _showdata(self):\n",
        "    print(\"ชื่อพนักงาน : {}\".format(self.__name))\n",
        "    print(\"เงินเดือน : {}\".format(self.__salary))\n",
        "    print(\"แผนก : {}\".format(self.__department))\n",
        "\n",
        " \n",
        "obj1 = Employee(\"ก้อง\", 200000,\"บัญชี\")\n",
        "\n",
        "#print(Employee.__minSalary)\n"
      ],
      "metadata": {
        "id": "_pTvXfN3mCz-"
      },
      "execution_count": 67,
      "outputs": []
    },
    {
      "cell_type": "code",
      "source": [
        "#ชื่อ, เงินเดือน\n",
        "\n",
        "class Employee:\n",
        "\n",
        "  minSalary = 12000\n",
        "  maxSalary = 50000\n",
        "  compaynyName = \"บริษัท XYZ จำกัด\"\n",
        "  def __init__(self,name,salary,department):\n",
        "    self.__name = name\n",
        "    self.__salary = salary\n",
        "    self.__department = department\n",
        "    #self._showdata()\n",
        "\n",
        "  def _showdata(self):\n",
        "    print(\"ชื่อพนักงาน : {}\".format(self.__name))\n",
        "    print(\"เงินเดือน : {}\".format(self.__salary))\n",
        "    print(\"แผนก : {}\".format(self.__department))\n",
        "    \n",
        "class Accounting(Employee):\n",
        "  __departmentName = \"แผนกบัญชี\"\n",
        "  def __init__(self):\n",
        "    pass\n",
        "\n",
        "class Programmer(Employee):\n",
        "  __departmentName = \"แผนกพัฒนาระบบ\"\n",
        "  def __init__(self):\n",
        "    pass\n",
        "\n",
        "class Sale(Employee):\n",
        "  __departmentName = \"ฝ่ายขายสินค้า\"\n",
        "  def __init__(self):\n",
        "    pass\n",
        "account = Accounting()\n",
        "print(Accounting.compaynyName)\n",
        "\n",
        "programmer = Programmer()\n",
        "print(programmer.minSalary)\n",
        "\n",
        "sale = Sale() \n",
        "print(Employee.compaynyName)\n"
      ],
      "metadata": {
        "colab": {
          "base_uri": "https://localhost:8080/"
        },
        "id": "nALEvIoXwfDv",
        "outputId": "9c2e7cce-0553-4ce2-c98c-c4faa8840094"
      },
      "execution_count": 85,
      "outputs": [
        {
          "output_type": "stream",
          "name": "stdout",
          "text": [
            "บริษัท XYZ จำกัด\n",
            "12000\n",
            "บริษัท XYZ จำกัด\n"
          ]
        }
      ]
    },
    {
      "cell_type": "markdown",
      "source": [
        "## Super"
      ],
      "metadata": {
        "id": "Fy2gDjXn5LSX"
      }
    },
    {
      "cell_type": "code",
      "source": [
        "#ชื่อ, เงินเดือน\n",
        "\n",
        "class Employee:\n",
        "\n",
        "  minSalary = 12000\n",
        "  maxSalary = 50000\n",
        "  compaynyName = \"บริษัท XYZ จำกัด\"\n",
        "  def __init__(self,name,salary,department):\n",
        "    self.__name = name\n",
        "    self.__salary = salary\n",
        "    self.__department = department\n",
        "    self._showdata()\n",
        "\n",
        "  def _showdata(self):\n",
        "    print(\"ชื่อพนักงาน : {}\".format(self.__name))\n",
        "    print(\"เงินเดือน : {}\".format(self.__salary))\n",
        "    print(\"แผนก : {}\".format(self.__department))\n",
        "\n",
        "class Accounting(Employee):\n",
        "  __departmentName = \"แผนกบัญชี\"\n",
        "  def __init__(self,name,salary):\n",
        "    super().__init__(name,salary,self.__departmentName)\n",
        "\n",
        "class Programmer(Employee):\n",
        "  __departmentName = \"แผนกพัฒนาระบบ\"\n",
        "  def __init__(self,name,salary):\n",
        "    super().__init__(name,salary,self.__departmentName)\n",
        "\n",
        "class Sale(Employee):\n",
        "  __departmentName = \"ฝ่ายขายสินค้า\"\n",
        "  def __init__(self,name,salary):\n",
        "    super().__init__(name,salary,self.__departmentName)\n",
        "\n",
        "account = Accounting(\"ก้อง\",12000)\n",
        "#account._showdata()\n",
        "\n",
        "programmer = Programmer(\"โจโจ้\",40000)\n",
        "#programmer._showdata()\n",
        "\n",
        "sale = Sale(\"นัท\", 35000) \n",
        "#sale._showdata()"
      ],
      "metadata": {
        "colab": {
          "base_uri": "https://localhost:8080/"
        },
        "id": "kf7tues15Nn-",
        "outputId": "98afb8fc-cbcb-456d-c0f7-623e9c4652b7"
      },
      "execution_count": 90,
      "outputs": [
        {
          "output_type": "stream",
          "name": "stdout",
          "text": [
            "ชื่อพนักงาน : ก้อง\n",
            "เงินเดือน : 12000\n",
            "เงินเดือน : แผนกบัญชี\n",
            "ชื่อพนักงาน : โจโจ้\n",
            "เงินเดือน : 40000\n",
            "เงินเดือน : แผนกพัฒนาระบบ\n",
            "ชื่อพนักงาน : นัท\n",
            "เงินเดือน : 35000\n",
            "เงินเดือน : ฝ่ายขายสินค้า\n"
          ]
        }
      ]
    },
    {
      "cell_type": "markdown",
      "source": [
        "## การแปลง Object เป็น String"
      ],
      "metadata": {
        "id": "yR7rfOZoAj86"
      }
    },
    {
      "cell_type": "code",
      "source": [
        "#ชื่อ, เงินเดือน\n",
        "\n",
        "class Employee:\n",
        "\n",
        "  minSalary = 12000\n",
        "  maxSalary = 50000\n",
        "  compaynyName = \"บริษัท XYZ จำกัด\"\n",
        "  def __init__(self,name,salary,department):\n",
        "    self.__name = name\n",
        "    self.__salary = salary\n",
        "    self.__department = department\n",
        "    #self._showdata()\n",
        "\n",
        "  def _showdata(self):\n",
        "    print(\"ชื่อพนักงาน : {}\".format(self.__name))\n",
        "    print(\"เงินเดือน : {}\".format(self.__salary))\n",
        "    print(\"แผนก : {}\".format(self.__department))\n",
        "    \n",
        "  def _getIncome(self):\n",
        "    return self.__salary*12\n",
        "\n",
        "  def __str__(self):\n",
        "    return (\"ชื่อพนักงาน ={}, แผนก ={},เงินเดือน = {}, รายได้ต่อปี = {} \"\n",
        "    .format(self.__name,self.__name,self.__salary,self._getIncome()))\n",
        "\n",
        "class Accounting(Employee):\n",
        "  __departmentName = \"แผนกบัญชี\"\n",
        "  def __init__(self,name,salary):\n",
        "    super().__init__(name,salary,self.__departmentName)\n",
        "\n",
        "class Programmer(Employee):\n",
        "  __departmentName = \"แผนกพัฒนาระบบ\"\n",
        "  def __init__(self,name,salary):\n",
        "    super().__init__(name,salary,self.__departmentName)\n",
        "\n",
        "class Sale(Employee):\n",
        "  __departmentName = \"ฝ่ายขายสินค้า\"\n",
        "  def __init__(self,name,salary):\n",
        "    super().__init__(name,salary,self.__departmentName)\n",
        "\n",
        "account = Accounting(\"ก้อง\",10000)\n",
        "#print(\"รายได้ต่อปี ={}\".format(account._getIncome()))\n",
        "#account._showdata()\n",
        "print(account.__str__())\n",
        "\n",
        "programmer = Programmer(\"โจโจ้\",40000)\n",
        "#print(\"รายได้ต่อปี ={}\".format(programmer._getIncome()))\n",
        "#programmer._showdata()\n",
        "print(programmer.__str__())\n",
        "\n",
        "sale = Sale(\"นัท\", 35000) \n",
        "#print(\"รายได้ต่อปี ={}\".format(sale._getIncome()))\n",
        "#sale._showdata()\n",
        "print(sale.__str__())"
      ],
      "metadata": {
        "colab": {
          "base_uri": "https://localhost:8080/"
        },
        "id": "0NUd0-asApTo",
        "outputId": "8d3fa8e4-b5fe-4d4b-e867-c3243f0e9e90"
      },
      "execution_count": 99,
      "outputs": [
        {
          "output_type": "stream",
          "name": "stdout",
          "text": [
            "ชื่อพนักงาน =ก้อง, แผนก =ก้อง,เงินเดือน = 10000, รายได้ต่อปี = 120000 \n",
            "ชื่อพนักงาน =โจโจ้, แผนก =โจโจ้,เงินเดือน = 40000, รายได้ต่อปี = 480000 \n",
            "ชื่อพนักงาน =นัท, แผนก =นัท,เงินเดือน = 35000, รายได้ต่อปี = 420000 \n"
          ]
        }
      ]
    },
    {
      "cell_type": "markdown",
      "source": [
        "## Overloading Methond"
      ],
      "metadata": {
        "id": "wN1TBX9HXsXI"
      }
    },
    {
      "cell_type": "code",
      "source": [
        "#ชื่อ, เงินเดือน\n",
        "\n",
        "class Employee:\n",
        "\n",
        "  minSalary = 12000\n",
        "  maxSalary = 50000\n",
        "  compaynyName = \"บริษัท XYZ จำกัด\"\n",
        "  def __init__(self,name,salary,department):\n",
        "    self.__name = name\n",
        "    self.__salary = salary\n",
        "    self.__department = department\n",
        "    #self._showdata()\n",
        "\n",
        "  def _showdata(self):\n",
        "    print(\"ชื่อพนักงาน : {}\".format(self.__name))\n",
        "    print(\"เงินเดือน : {}\".format(self.__salary))\n",
        "    print(\"แผนก : {}\".format(self.__department))\n",
        "\n",
        "  # def _getIncome(self):\n",
        "  #   return self.__salary*12\n",
        "  \n",
        "  def _getIncome(self,bonus=0):\n",
        "    return (self.__salary*12 + bonus)\n",
        "\n",
        "  def __str__(self):\n",
        "    return (\"ชื่อพนักงาน ={}, แผนก ={},เงินเดือน = {}, รายได้ต่อปี = {} \"\n",
        "    .format(self.__name,self.__name,self.__salary,self._getIncome()))\n",
        "\n",
        "class Accounting(Employee):\n",
        "  __departmentName = \"แผนกบัญชี\"\n",
        "  def __init__(self,name,salary,age):\n",
        "    super().__init__(name,salary,self.__departmentName)\n",
        "    self.__age = age\n",
        "\n",
        "  def _showdata(self):\n",
        "    super()._showdata()\n",
        "    print(\"อายุ : {}\".format(self.__age))\n",
        "    print(\"############\")\n",
        "\n",
        "  def __str__(self):\n",
        "    return (super().__str__() + \",อายุ = {} ปี\".format(self.__age))\n",
        "\n",
        "class Programmer(Employee):\n",
        "  __departmentName = \"แผนกพัฒนาระบบ\"\n",
        "  def __init__(self,name,salary,experience,skill):\n",
        "    super().__init__(name,salary,self.__departmentName)\n",
        "    self.__exp = experience\n",
        "    self.__skill = skill\n",
        "\n",
        "  def _showdata(self):\n",
        "    super()._showdata()\n",
        "    print(\"ประสบการณ์ : {}\".format(self.__exp))\n",
        "    print(\"ทักษะ : {}\".format(self.__skill))\n",
        "    print(\"############\")\n",
        "\n",
        "  def __str__(self):\n",
        "    return (super().__str__() + \",ประสบการณ์ = {} ปี, ทักษะ = {}\".format(self.__exp,self.__skill))\n",
        "\n",
        "class Sale(Employee):\n",
        "  __departmentName = \"ฝ่ายขายสินค้า\"\n",
        "  def __init__(self,name,salary,area):\n",
        "    super().__init__(name,salary,self.__departmentName)\n",
        "    self.__area = area\n",
        "\n",
        "  def _showdata(self):\n",
        "    super()._showdata()\n",
        "    print(\"พื้นที่รับผิดชอบ : {}\".format(self.__area))\n",
        "    print(\"############\")\n",
        "\n",
        "  def __str__(self):\n",
        "    return (super().__str__() + \",พื้นที่รับผิดชอบ = {}\".format(self.__area))\n",
        "\n",
        "account = Accounting(\"ก้อง\",10000,30)\n",
        "#account._showdata()\n",
        "print(account.__str__())\n",
        "\n",
        "programmer = Programmer(\"โจโจ้\",40000,2,\"พัฒนาเกม\")\n",
        "#programmer._showdata()\n",
        "print(programmer.__str__())\n",
        "\n",
        "sale = Sale(\"นัท\", 35000,\"เชียงใหม่\") \n",
        "#sale._showdata()\n",
        "print(sale.__str__())\n",
        "print(account._getIncome(5000))"
      ],
      "metadata": {
        "colab": {
          "base_uri": "https://localhost:8080/"
        },
        "id": "mVmihunPX_Fo",
        "outputId": "4249c756-c9ec-4e72-e0f5-93f4ad735b40"
      },
      "execution_count": 20,
      "outputs": [
        {
          "output_type": "stream",
          "name": "stdout",
          "text": [
            "ชื่อพนักงาน =ก้อง, แผนก =ก้อง,เงินเดือน = 10000, รายได้ต่อปี = 120000 ,อายุ = 30 ปี\n",
            "ชื่อพนักงาน =โจโจ้, แผนก =โจโจ้,เงินเดือน = 40000, รายได้ต่อปี = 480000 ,ประสบการณ์ = 2 ปี, ทักษะ = พัฒนาเกม\n",
            "ชื่อพนักงาน =นัท, แผนก =นัท,เงินเดือน = 35000, รายได้ต่อปี = 420000 ,พื้นที่รับผิดชอบ = เชียงใหม่\n",
            "125000\n"
          ]
        }
      ]
    }
  ]
}